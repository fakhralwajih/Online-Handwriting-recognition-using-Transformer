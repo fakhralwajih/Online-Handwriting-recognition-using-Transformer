{
  "cells": [
    {
      "cell_type": "code",
      "execution_count": null,
      "metadata": {
        "id": "dMXdB6rm9ryg"
      },
      "outputs": [],
      "source": [
        "import pandas as pd\n",
        "import xml.etree.ElementTree as ET\n",
        "import matplotlib.pyplot as plt\n",
        "import os\n",
        "import numpy as np\n",
        "from preprocessing import *\n",
        "from features_extraction import *\n",
        "\n",
        "from glob import glob"
      ]
    },
    {
      "cell_type": "code",
      "execution_count": null,
      "metadata": {
        "id": "DE2P_rZi_Rfp"
      },
      "outputs": [],
      "source": [
        "# extract strokes (x and y cordinate) from xml file and return a list of strokes as ink object [mark pen up with 1]\n",
        "def extract_strokes(sample):\n",
        "  tree = ET.parse(sample)\n",
        "  r = tree.getroot()\n",
        "  stroke_set = r.find(\"StrokeSet\")\n",
        "  strokes = []\n",
        "  for stroke_node in stroke_set:\n",
        "      for point in stroke_node:\n",
        "          x = int(point.attrib['x']) \n",
        "          y = int(point.attrib['y'])\n",
        "          time = float(point.attrib['time'])\n",
        "          strokes.append([x,y,0])\n",
        "      strokes[-1][-1] = 1 # pen-up\n",
        "  return strokes"
      ]
    },
    {
      "cell_type": "code",
      "execution_count": null,
      "metadata": {
        "id": "skLFKyD06Puf"
      },
      "outputs": [],
      "source": [
        "#  extract handwriting from the raw data\n",
        "!tar -xf \"data/ascii-all.tar.gz\"\n",
        "!tar -xf \"data/lineStrokes-all.tar.gz\""
      ]
    },
    {
      "cell_type": "code",
      "execution_count": null,
      "metadata": {
        "id": "EMw5zd-P6f1f"
      },
      "outputs": [],
      "source": [
        "\n",
        "PATH= 'data/lineStrokes'\n",
        "xml_files = [y for x in os.walk(PATH) for y in glob(os.path.join(x[0], '*.xml'))]\n",
        "PATH= 'data/ascii'\n",
        "txt_files = [y for x in os.walk(PATH) for y in glob(os.path.join(x[0], '*.txt'))]"
      ]
    },
    {
      "cell_type": "code",
      "execution_count": null,
      "metadata": {
        "id": "nfr-p31l83re"
      },
      "outputs": [],
      "source": [
        "#  Clean up the text and format it to be ready for preprocessing\n",
        "data=[]\n",
        "for txt_file in txt_files:\n",
        "  with open(txt_file) as f:\n",
        "    lines = f.readlines()\n",
        "    try:\n",
        "      indx = lines.index('CSR:\\n')\n",
        "    except:\n",
        "      # print(lines)\n",
        "      # print(txt_file)\n",
        "      indx = lines.index('CSR: \\n')\n",
        "      # break\n",
        "    lines = lines[indx+2:]\n",
        "    for i,line in enumerate(lines):\n",
        "      xml_file = txt_file.replace('ascii','lineStrokes').replace('.txt','')\n",
        "      xml_file = xml_file + f'-{i+1:02}.xml'\n",
        "      data.append({'file_path':xml_file,'transcript':line.replace('\\n','')})\n",
        "    "
      ]
    },
    {
      "cell_type": "code",
      "execution_count": null,
      "metadata": {
        "id": "Lg3ZS--9AXme"
      },
      "outputs": [],
      "source": [
        "#  Convert the list to dataframe to easily process the data\n",
        "df = pd.DataFrame(data)\n",
        "df['exists'] = df['file_path'].apply(lambda x :os.path.exists(x))"
      ]
    },
    {
      "cell_type": "code",
      "execution_count": null,
      "metadata": {
        "colab": {
          "base_uri": "https://localhost:8080/"
        },
        "id": "aEib7H37EtGQ",
        "outputId": "098cc563-d9f3-4887-81bb-58a25043b8b6"
      },
      "outputs": [
        {
          "data": {
            "text/plain": [
              "True     12187\n",
              "False     1021\n",
              "Name: exists, dtype: int64"
            ]
          },
          "execution_count": 14,
          "metadata": {},
          "output_type": "execute_result"
        }
      ],
      "source": [
        "df['exists'].value_counts()"
      ]
    },
    {
      "cell_type": "code",
      "execution_count": null,
      "metadata": {
        "colab": {
          "base_uri": "https://localhost:8080/",
          "height": 206
        },
        "id": "V1sZ8kv2FVPx",
        "outputId": "058cb261-3a6b-4966-f039-ab63fd7a84ec"
      },
      "outputs": [
        {
          "data": {
            "text/html": [
              "\n",
              "  <div id=\"df-4ea2440e-4fe6-4526-9572-be3df7f5f34f\">\n",
              "    <div class=\"colab-df-container\">\n",
              "      <div>\n",
              "<style scoped>\n",
              "    .dataframe tbody tr th:only-of-type {\n",
              "        vertical-align: middle;\n",
              "    }\n",
              "\n",
              "    .dataframe tbody tr th {\n",
              "        vertical-align: top;\n",
              "    }\n",
              "\n",
              "    .dataframe thead th {\n",
              "        text-align: right;\n",
              "    }\n",
              "</style>\n",
              "<table border=\"1\" class=\"dataframe\">\n",
              "  <thead>\n",
              "    <tr style=\"text-align: right;\">\n",
              "      <th></th>\n",
              "      <th>file_path</th>\n",
              "      <th>transcript</th>\n",
              "      <th>exists</th>\n",
              "    </tr>\n",
              "  </thead>\n",
              "  <tbody>\n",
              "    <tr>\n",
              "      <th>0</th>\n",
              "      <td>/content/lineStrokes/f07/f07-417/f07-417z-01.xml</td>\n",
              "      <td>Having exhausted their invention in the</td>\n",
              "      <td>True</td>\n",
              "    </tr>\n",
              "    <tr>\n",
              "      <th>1</th>\n",
              "      <td>/content/lineStrokes/f07/f07-417/f07-417z-02.xml</td>\n",
              "      <td>preparation of stimulants for the palate, they...</td>\n",
              "      <td>True</td>\n",
              "    </tr>\n",
              "    <tr>\n",
              "      <th>2</th>\n",
              "      <td>/content/lineStrokes/f07/f07-417/f07-417z-03.xml</td>\n",
              "      <td>fresh ground and called another sense to their...</td>\n",
              "      <td>True</td>\n",
              "    </tr>\n",
              "    <tr>\n",
              "      <th>3</th>\n",
              "      <td>/content/lineStrokes/f07/f07-417/f07-417z-04.xml</td>\n",
              "      <td>delicate application of odours and richly-dist...</td>\n",
              "      <td>True</td>\n",
              "    </tr>\n",
              "    <tr>\n",
              "      <th>4</th>\n",
              "      <td>/content/lineStrokes/f07/f07-417/f07-417z-05.xml</td>\n",
              "      <td>perfumes, these refined voluptuaries aroused t...</td>\n",
              "      <td>True</td>\n",
              "    </tr>\n",
              "  </tbody>\n",
              "</table>\n",
              "</div>\n",
              "      <button class=\"colab-df-convert\" onclick=\"convertToInteractive('df-4ea2440e-4fe6-4526-9572-be3df7f5f34f')\"\n",
              "              title=\"Convert this dataframe to an interactive table.\"\n",
              "              style=\"display:none;\">\n",
              "        \n",
              "  <svg xmlns=\"http://www.w3.org/2000/svg\" height=\"24px\"viewBox=\"0 0 24 24\"\n",
              "       width=\"24px\">\n",
              "    <path d=\"M0 0h24v24H0V0z\" fill=\"none\"/>\n",
              "    <path d=\"M18.56 5.44l.94 2.06.94-2.06 2.06-.94-2.06-.94-.94-2.06-.94 2.06-2.06.94zm-11 1L8.5 8.5l.94-2.06 2.06-.94-2.06-.94L8.5 2.5l-.94 2.06-2.06.94zm10 10l.94 2.06.94-2.06 2.06-.94-2.06-.94-.94-2.06-.94 2.06-2.06.94z\"/><path d=\"M17.41 7.96l-1.37-1.37c-.4-.4-.92-.59-1.43-.59-.52 0-1.04.2-1.43.59L10.3 9.45l-7.72 7.72c-.78.78-.78 2.05 0 2.83L4 21.41c.39.39.9.59 1.41.59.51 0 1.02-.2 1.41-.59l7.78-7.78 2.81-2.81c.8-.78.8-2.07 0-2.86zM5.41 20L4 18.59l7.72-7.72 1.47 1.35L5.41 20z\"/>\n",
              "  </svg>\n",
              "      </button>\n",
              "      \n",
              "  <style>\n",
              "    .colab-df-container {\n",
              "      display:flex;\n",
              "      flex-wrap:wrap;\n",
              "      gap: 12px;\n",
              "    }\n",
              "\n",
              "    .colab-df-convert {\n",
              "      background-color: #E8F0FE;\n",
              "      border: none;\n",
              "      border-radius: 50%;\n",
              "      cursor: pointer;\n",
              "      display: none;\n",
              "      fill: #1967D2;\n",
              "      height: 32px;\n",
              "      padding: 0 0 0 0;\n",
              "      width: 32px;\n",
              "    }\n",
              "\n",
              "    .colab-df-convert:hover {\n",
              "      background-color: #E2EBFA;\n",
              "      box-shadow: 0px 1px 2px rgba(60, 64, 67, 0.3), 0px 1px 3px 1px rgba(60, 64, 67, 0.15);\n",
              "      fill: #174EA6;\n",
              "    }\n",
              "\n",
              "    [theme=dark] .colab-df-convert {\n",
              "      background-color: #3B4455;\n",
              "      fill: #D2E3FC;\n",
              "    }\n",
              "\n",
              "    [theme=dark] .colab-df-convert:hover {\n",
              "      background-color: #434B5C;\n",
              "      box-shadow: 0px 1px 3px 1px rgba(0, 0, 0, 0.15);\n",
              "      filter: drop-shadow(0px 1px 2px rgba(0, 0, 0, 0.3));\n",
              "      fill: #FFFFFF;\n",
              "    }\n",
              "  </style>\n",
              "\n",
              "      <script>\n",
              "        const buttonEl =\n",
              "          document.querySelector('#df-4ea2440e-4fe6-4526-9572-be3df7f5f34f button.colab-df-convert');\n",
              "        buttonEl.style.display =\n",
              "          google.colab.kernel.accessAllowed ? 'block' : 'none';\n",
              "\n",
              "        async function convertToInteractive(key) {\n",
              "          const element = document.querySelector('#df-4ea2440e-4fe6-4526-9572-be3df7f5f34f');\n",
              "          const dataTable =\n",
              "            await google.colab.kernel.invokeFunction('convertToInteractive',\n",
              "                                                     [key], {});\n",
              "          if (!dataTable) return;\n",
              "\n",
              "          const docLinkHtml = 'Like what you see? Visit the ' +\n",
              "            '<a target=\"_blank\" href=https://colab.research.google.com/notebooks/data_table.ipynb>data table notebook</a>'\n",
              "            + ' to learn more about interactive tables.';\n",
              "          element.innerHTML = '';\n",
              "          dataTable['output_type'] = 'display_data';\n",
              "          await google.colab.output.renderOutput(dataTable, element);\n",
              "          const docLink = document.createElement('div');\n",
              "          docLink.innerHTML = docLinkHtml;\n",
              "          element.appendChild(docLink);\n",
              "        }\n",
              "      </script>\n",
              "    </div>\n",
              "  </div>\n",
              "  "
            ],
            "text/plain": [
              "                                          file_path  ... exists\n",
              "0  /content/lineStrokes/f07/f07-417/f07-417z-01.xml  ...   True\n",
              "1  /content/lineStrokes/f07/f07-417/f07-417z-02.xml  ...   True\n",
              "2  /content/lineStrokes/f07/f07-417/f07-417z-03.xml  ...   True\n",
              "3  /content/lineStrokes/f07/f07-417/f07-417z-04.xml  ...   True\n",
              "4  /content/lineStrokes/f07/f07-417/f07-417z-05.xml  ...   True\n",
              "\n",
              "[5 rows x 3 columns]"
            ]
          },
          "execution_count": 16,
          "metadata": {},
          "output_type": "execute_result"
        }
      ],
      "source": [
        "df.head()"
      ]
    },
    {
      "cell_type": "code",
      "execution_count": null,
      "metadata": {
        "id": "MnRsvOe5YHJf"
      },
      "outputs": [],
      "source": [
        "# Keep only the files that exist\n",
        "data =df[df['exists']]"
      ]
    },
    {
      "cell_type": "code",
      "execution_count": null,
      "metadata": {
        "id": "nJqzIiTrW-0U"
      },
      "outputs": [],
      "source": [
        "#  name the preprocessing methods and features extraction  \n",
        "NORM_ARGS = [\"origin\",\"smooth\", \"slope\", \"resample\", \"slant\", \"height\"]\n",
        "FEAT_ARGS = [\"x_cor\",\"y_cor\",\"penup\",\"dir\", \"curv\", \"vic_aspect\", \"vic_curl\", \"vic_line\", \"vic_slope\", \"bitmap\"]"
      ]
    },
    {
      "cell_type": "code",
      "execution_count": null,
      "metadata": {
        "id": "HHUn3KeLFqQY"
      },
      "outputs": [],
      "source": [
        "#  iterate over the data, preporcess and extract the features, then save the data to binary file\n",
        "for i,sample in data.iterrows():\n",
        "  strokes = extract_strokes(sample['file_path'])\n",
        "  strokes = np. array(strokes)\n",
        "  ink = preprocess_handwriting(strokes, NORM_ARGS)\n",
        "  feat = calculate_feature_vector_sequence(ink, FEAT_ARGS)\n",
        "  outfilename = sample['file_path'].split('/')[-1].replace('.xml','.bin')\n",
        "  outfilename= 'data/bin_files/'+ outfilename\n",
        "  feat.tofile(outfilename)  "
      ]
    },
    {
      "cell_type": "code",
      "execution_count": null,
      "metadata": {
        "colab": {
          "base_uri": "https://localhost:8080/",
          "height": 206
        },
        "id": "9Un8tBGRoW_z",
        "outputId": "1ea73545-398f-4512-81e3-3275513c9dac"
      },
      "outputs": [
        {
          "data": {
            "text/html": [
              "\n",
              "  <div id=\"df-530df8fe-08c7-4b2e-9b45-8fbf87351a1c\">\n",
              "    <div class=\"colab-df-container\">\n",
              "      <div>\n",
              "<style scoped>\n",
              "    .dataframe tbody tr th:only-of-type {\n",
              "        vertical-align: middle;\n",
              "    }\n",
              "\n",
              "    .dataframe tbody tr th {\n",
              "        vertical-align: top;\n",
              "    }\n",
              "\n",
              "    .dataframe thead th {\n",
              "        text-align: right;\n",
              "    }\n",
              "</style>\n",
              "<table border=\"1\" class=\"dataframe\">\n",
              "  <thead>\n",
              "    <tr style=\"text-align: right;\">\n",
              "      <th></th>\n",
              "      <th>file_path</th>\n",
              "      <th>transcript</th>\n",
              "      <th>exists</th>\n",
              "    </tr>\n",
              "  </thead>\n",
              "  <tbody>\n",
              "    <tr>\n",
              "      <th>0</th>\n",
              "      <td>/content/lineStrokes/f07/f07-417/f07-417z-01.xml</td>\n",
              "      <td>Having exhausted their invention in the</td>\n",
              "      <td>True</td>\n",
              "    </tr>\n",
              "    <tr>\n",
              "      <th>1</th>\n",
              "      <td>/content/lineStrokes/f07/f07-417/f07-417z-02.xml</td>\n",
              "      <td>preparation of stimulants for the palate, they...</td>\n",
              "      <td>True</td>\n",
              "    </tr>\n",
              "    <tr>\n",
              "      <th>2</th>\n",
              "      <td>/content/lineStrokes/f07/f07-417/f07-417z-03.xml</td>\n",
              "      <td>fresh ground and called another sense to their...</td>\n",
              "      <td>True</td>\n",
              "    </tr>\n",
              "    <tr>\n",
              "      <th>3</th>\n",
              "      <td>/content/lineStrokes/f07/f07-417/f07-417z-04.xml</td>\n",
              "      <td>delicate application of odours and richly-dist...</td>\n",
              "      <td>True</td>\n",
              "    </tr>\n",
              "    <tr>\n",
              "      <th>4</th>\n",
              "      <td>/content/lineStrokes/f07/f07-417/f07-417z-05.xml</td>\n",
              "      <td>perfumes, these refined voluptuaries aroused t...</td>\n",
              "      <td>True</td>\n",
              "    </tr>\n",
              "  </tbody>\n",
              "</table>\n",
              "</div>\n",
              "      <button class=\"colab-df-convert\" onclick=\"convertToInteractive('df-530df8fe-08c7-4b2e-9b45-8fbf87351a1c')\"\n",
              "              title=\"Convert this dataframe to an interactive table.\"\n",
              "              style=\"display:none;\">\n",
              "        \n",
              "  <svg xmlns=\"http://www.w3.org/2000/svg\" height=\"24px\"viewBox=\"0 0 24 24\"\n",
              "       width=\"24px\">\n",
              "    <path d=\"M0 0h24v24H0V0z\" fill=\"none\"/>\n",
              "    <path d=\"M18.56 5.44l.94 2.06.94-2.06 2.06-.94-2.06-.94-.94-2.06-.94 2.06-2.06.94zm-11 1L8.5 8.5l.94-2.06 2.06-.94-2.06-.94L8.5 2.5l-.94 2.06-2.06.94zm10 10l.94 2.06.94-2.06 2.06-.94-2.06-.94-.94-2.06-.94 2.06-2.06.94z\"/><path d=\"M17.41 7.96l-1.37-1.37c-.4-.4-.92-.59-1.43-.59-.52 0-1.04.2-1.43.59L10.3 9.45l-7.72 7.72c-.78.78-.78 2.05 0 2.83L4 21.41c.39.39.9.59 1.41.59.51 0 1.02-.2 1.41-.59l7.78-7.78 2.81-2.81c.8-.78.8-2.07 0-2.86zM5.41 20L4 18.59l7.72-7.72 1.47 1.35L5.41 20z\"/>\n",
              "  </svg>\n",
              "      </button>\n",
              "      \n",
              "  <style>\n",
              "    .colab-df-container {\n",
              "      display:flex;\n",
              "      flex-wrap:wrap;\n",
              "      gap: 12px;\n",
              "    }\n",
              "\n",
              "    .colab-df-convert {\n",
              "      background-color: #E8F0FE;\n",
              "      border: none;\n",
              "      border-radius: 50%;\n",
              "      cursor: pointer;\n",
              "      display: none;\n",
              "      fill: #1967D2;\n",
              "      height: 32px;\n",
              "      padding: 0 0 0 0;\n",
              "      width: 32px;\n",
              "    }\n",
              "\n",
              "    .colab-df-convert:hover {\n",
              "      background-color: #E2EBFA;\n",
              "      box-shadow: 0px 1px 2px rgba(60, 64, 67, 0.3), 0px 1px 3px 1px rgba(60, 64, 67, 0.15);\n",
              "      fill: #174EA6;\n",
              "    }\n",
              "\n",
              "    [theme=dark] .colab-df-convert {\n",
              "      background-color: #3B4455;\n",
              "      fill: #D2E3FC;\n",
              "    }\n",
              "\n",
              "    [theme=dark] .colab-df-convert:hover {\n",
              "      background-color: #434B5C;\n",
              "      box-shadow: 0px 1px 3px 1px rgba(0, 0, 0, 0.15);\n",
              "      filter: drop-shadow(0px 1px 2px rgba(0, 0, 0, 0.3));\n",
              "      fill: #FFFFFF;\n",
              "    }\n",
              "  </style>\n",
              "\n",
              "      <script>\n",
              "        const buttonEl =\n",
              "          document.querySelector('#df-530df8fe-08c7-4b2e-9b45-8fbf87351a1c button.colab-df-convert');\n",
              "        buttonEl.style.display =\n",
              "          google.colab.kernel.accessAllowed ? 'block' : 'none';\n",
              "\n",
              "        async function convertToInteractive(key) {\n",
              "          const element = document.querySelector('#df-530df8fe-08c7-4b2e-9b45-8fbf87351a1c');\n",
              "          const dataTable =\n",
              "            await google.colab.kernel.invokeFunction('convertToInteractive',\n",
              "                                                     [key], {});\n",
              "          if (!dataTable) return;\n",
              "\n",
              "          const docLinkHtml = 'Like what you see? Visit the ' +\n",
              "            '<a target=\"_blank\" href=https://colab.research.google.com/notebooks/data_table.ipynb>data table notebook</a>'\n",
              "            + ' to learn more about interactive tables.';\n",
              "          element.innerHTML = '';\n",
              "          dataTable['output_type'] = 'display_data';\n",
              "          await google.colab.output.renderOutput(dataTable, element);\n",
              "          const docLink = document.createElement('div');\n",
              "          docLink.innerHTML = docLinkHtml;\n",
              "          element.appendChild(docLink);\n",
              "        }\n",
              "      </script>\n",
              "    </div>\n",
              "  </div>\n",
              "  "
            ],
            "text/plain": [
              "                                          file_path  ... exists\n",
              "0  /content/lineStrokes/f07/f07-417/f07-417z-01.xml  ...   True\n",
              "1  /content/lineStrokes/f07/f07-417/f07-417z-02.xml  ...   True\n",
              "2  /content/lineStrokes/f07/f07-417/f07-417z-03.xml  ...   True\n",
              "3  /content/lineStrokes/f07/f07-417/f07-417z-04.xml  ...   True\n",
              "4  /content/lineStrokes/f07/f07-417/f07-417z-05.xml  ...   True\n",
              "\n",
              "[5 rows x 3 columns]"
            ]
          },
          "execution_count": 33,
          "metadata": {},
          "output_type": "execute_result"
        }
      ],
      "source": [
        "data.head()"
      ]
    },
    {
      "cell_type": "code",
      "execution_count": null,
      "metadata": {
        "id": "nydV_ZQorcLx"
      },
      "outputs": [],
      "source": [
        "# save the transcript and file path to excel file\n",
        "data.to_excel('data/iam_data.xlsx')"
      ]
    }
  ],
  "metadata": {
    "colab": {
      "name": "IAM-onDB.ipynb",
      "provenance": []
    },
    "kernelspec": {
      "display_name": "Python 3.9.7 64-bit",
      "language": "python",
      "name": "python3"
    },
    "language_info": {
      "name": "python",
      "version": "3.9.7"
    },
    "vscode": {
      "interpreter": {
        "hash": "b0fa6594d8f4cbf19f97940f81e996739fb7646882a419484c72d19e05852a7e"
      }
    }
  },
  "nbformat": 4,
  "nbformat_minor": 0
}
